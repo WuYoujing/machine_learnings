{
 "cells": [
  {
   "cell_type": "code",
   "execution_count": 1,
   "source": [
    "import numpy as np\r\n",
    "import pandas as pd\r\n",
    "import matplotlib.pyplot as plt\r\n",
    "from scipy.io import loadmat\r\n",
    "import ex3f\r\n"
   ],
   "outputs": [],
   "metadata": {}
  },
  {
   "cell_type": "code",
   "execution_count": 2,
   "source": [
    "data = loadmat('ex3data1.mat')\r\n",
    "data"
   ],
   "outputs": [
    {
     "output_type": "execute_result",
     "data": {
      "text/plain": [
       "{'__header__': b'MATLAB 5.0 MAT-file, Platform: GLNXA64, Created on: Sun Oct 16 13:09:09 2011',\n",
       " '__version__': '1.0',\n",
       " '__globals__': [],\n",
       " 'X': array([[0., 0., 0., ..., 0., 0., 0.],\n",
       "        [0., 0., 0., ..., 0., 0., 0.],\n",
       "        [0., 0., 0., ..., 0., 0., 0.],\n",
       "        ...,\n",
       "        [0., 0., 0., ..., 0., 0., 0.],\n",
       "        [0., 0., 0., ..., 0., 0., 0.],\n",
       "        [0., 0., 0., ..., 0., 0., 0.]]),\n",
       " 'y': array([[10],\n",
       "        [10],\n",
       "        [10],\n",
       "        ...,\n",
       "        [ 9],\n",
       "        [ 9],\n",
       "        [ 9]], dtype=uint8)}"
      ]
     },
     "metadata": {},
     "execution_count": 2
    }
   ],
   "metadata": {}
  },
  {
   "cell_type": "code",
   "execution_count": 3,
   "source": [
    "data['X'].shape,data['y'].shape"
   ],
   "outputs": [
    {
     "output_type": "execute_result",
     "data": {
      "text/plain": [
       "((5000, 400), (5000, 1))"
      ]
     },
     "metadata": {},
     "execution_count": 3
    }
   ],
   "metadata": {}
  },
  {
   "cell_type": "code",
   "execution_count": 4,
   "source": [
    "rows = data['X'].shape[0]\r\n",
    "clu = data['X'].shape[1]\r\n",
    "all_theta = np.zeros((10, clu + 1))\r\n",
    "\r\n",
    "X = np.insert(data['X'], 0, values=np.ones(rows), axis=1)\r\n",
    "\r\n",
    "theta = np.zeros(clu + 1)\r\n",
    "\r\n",
    "y_0 = np.array([1 if label == 0 else 0 for label in data['y']])\r\n",
    "y_0 = np.reshape(y_0, (rows, 1))\r\n",
    "X.shape, y_0.shape, theta.shape, all_theta.shape\r\n",
    "# array 数组中一维array和二维array显示的shape是不一样的，一维的shape显示只有一个数据，在矩阵化之后，哪个一维的array会变成一个行向量\r\n",
    "#在对array切片时生成的是一个二维数组，如果对其使用索引指定一列数组，则会生成一个一维array，在矩阵话之后会变成一个行向量"
   ],
   "outputs": [
    {
     "output_type": "execute_result",
     "data": {
      "text/plain": [
       "((5000, 401), (5000, 1), (401,), (10, 401))"
      ]
     },
     "metadata": {},
     "execution_count": 4
    }
   ],
   "metadata": {}
  },
  {
   "cell_type": "markdown",
   "source": [],
   "metadata": {}
  },
  {
   "cell_type": "code",
   "execution_count": 5,
   "source": [
    "np.unique(data['y'])"
   ],
   "outputs": [
    {
     "output_type": "execute_result",
     "data": {
      "text/plain": [
       "array([ 1,  2,  3,  4,  5,  6,  7,  8,  9, 10], dtype=uint8)"
      ]
     },
     "metadata": {},
     "execution_count": 5
    }
   ],
   "metadata": {}
  },
  {
   "cell_type": "markdown",
   "source": [],
   "metadata": {}
  },
  {
   "cell_type": "code",
   "execution_count": 6,
   "source": [
    "all_theta = ex3f.one_vs_all(data['X'],data['y'],10,1)\r\n",
    "all_theta"
   ],
   "outputs": [
    {
     "output_type": "execute_result",
     "data": {
      "text/plain": [
       "array([[ 0.00000000e+00,  0.00000000e+00,  0.00000000e+00, ...,\n",
       "         0.00000000e+00,  0.00000000e+00,  0.00000000e+00],\n",
       "       [-1.10131293e+00,  0.00000000e+00,  0.00000000e+00, ...,\n",
       "         8.92257330e-05, -7.61813409e-06,  0.00000000e+00],\n",
       "       [-1.03164321e+00,  0.00000000e+00,  0.00000000e+00, ...,\n",
       "        -9.35971605e-06,  5.71290820e-07,  0.00000000e+00],\n",
       "       ...,\n",
       "       [-1.72236526e+00,  0.00000000e+00,  0.00000000e+00, ...,\n",
       "        -1.70068076e-05,  1.05490354e-06,  0.00000000e+00],\n",
       "       [-1.56710479e-01,  0.00000000e+00,  0.00000000e+00, ...,\n",
       "        -1.65786252e-06,  1.08760816e-07,  0.00000000e+00],\n",
       "       [ 0.00000000e+00,  0.00000000e+00,  0.00000000e+00, ...,\n",
       "         0.00000000e+00,  0.00000000e+00,  0.00000000e+00]])"
      ]
     },
     "metadata": {},
     "execution_count": 6
    }
   ],
   "metadata": {}
  },
  {
   "cell_type": "code",
   "execution_count": 7,
   "source": [
    "pred = ex3f.predict_all(data['X'],all_theta)\r\n",
    "corr = np.zeros(pred.shape)\r\n",
    "corr[pred == data['y']] = 1\r\n",
    "acc = sum(corr)/len(corr)*100\r\n",
    "print(\"{0}\".format(float(acc)))\r\n",
    "\r\n"
   ],
   "outputs": [
    {
     "output_type": "stream",
     "name": "stdout",
     "text": [
      "25.0\n"
     ]
    }
   ],
   "metadata": {}
  }
 ],
 "metadata": {
  "orig_nbformat": 4,
  "language_info": {
   "name": "python",
   "version": "3.9.6",
   "mimetype": "text/x-python",
   "codemirror_mode": {
    "name": "ipython",
    "version": 3
   },
   "pygments_lexer": "ipython3",
   "nbconvert_exporter": "python",
   "file_extension": ".py"
  },
  "kernelspec": {
   "name": "python3",
   "display_name": "Python 3.9.6 64-bit"
  },
  "interpreter": {
   "hash": "14d6c3be0fe4ee33758987c887cfc94b8d9c03b606f0e6e7da19c9657f166232"
  }
 },
 "nbformat": 4,
 "nbformat_minor": 2
}