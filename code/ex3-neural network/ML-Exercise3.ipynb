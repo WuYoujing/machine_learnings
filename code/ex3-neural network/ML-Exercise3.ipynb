{
 "cells": [
  {
   "cell_type": "markdown",
   "source": [
    "# 机器学习练习 3 - 多类分类"
   ],
   "metadata": {}
  },
  {
   "cell_type": "markdown",
   "source": [
    "该代码涵盖了基于Python的解决方案，用于Coursera机器学习课程的第三个编程练习。 有关详细说明和方程式，请参阅[exercise text](ex3.pdf)。\n",
    "\n",
    "\n",
    "代码修改并注释：黄海广，haiguang2000@qq.com"
   ],
   "metadata": {}
  },
  {
   "cell_type": "markdown",
   "source": [
    "对于此练习，我们将使用逻辑回归来识别手写数字（0到9）。 我们将扩展我们在练习2中写的逻辑回归的实现，并将其应用于一对一的分类。 让我们开始加载数据集。 它是在MATLAB的本机格式，所以要加载它在Python，我们需要使用一个SciPy工具。"
   ],
   "metadata": {
    "collapsed": true
   }
  },
  {
   "cell_type": "code",
   "execution_count": 14,
   "source": [
    "import numpy as np\r\n",
    "import pandas as pd\r\n",
    "import matplotlib.pyplot as plt\r\n",
    "from scipy.io import loadmat"
   ],
   "outputs": [],
   "metadata": {
    "collapsed": true
   }
  },
  {
   "cell_type": "code",
   "execution_count": 15,
   "source": [
    "data = loadmat('ex3data1.mat')\r\n",
    "data"
   ],
   "outputs": [
    {
     "output_type": "execute_result",
     "data": {
      "text/plain": [
       "{'__header__': b'MATLAB 5.0 MAT-file, Platform: GLNXA64, Created on: Sun Oct 16 13:09:09 2011',\n",
       " '__version__': '1.0',\n",
       " '__globals__': [],\n",
       " 'X': array([[0., 0., 0., ..., 0., 0., 0.],\n",
       "        [0., 0., 0., ..., 0., 0., 0.],\n",
       "        [0., 0., 0., ..., 0., 0., 0.],\n",
       "        ...,\n",
       "        [0., 0., 0., ..., 0., 0., 0.],\n",
       "        [0., 0., 0., ..., 0., 0., 0.],\n",
       "        [0., 0., 0., ..., 0., 0., 0.]]),\n",
       " 'y': array([[10],\n",
       "        [10],\n",
       "        [10],\n",
       "        ...,\n",
       "        [ 9],\n",
       "        [ 9],\n",
       "        [ 9]], dtype=uint8)}"
      ]
     },
     "metadata": {},
     "execution_count": 15
    }
   ],
   "metadata": {
    "scrolled": true
   }
  },
  {
   "cell_type": "code",
   "execution_count": 16,
   "source": [
    "data['X'].shape, data['y'].shape"
   ],
   "outputs": [
    {
     "output_type": "execute_result",
     "data": {
      "text/plain": [
       "((5000, 400), (5000, 1))"
      ]
     },
     "metadata": {},
     "execution_count": 16
    }
   ],
   "metadata": {}
  },
  {
   "cell_type": "markdown",
   "source": [
    "好的，我们已经加载了我们的数据。图像在martix X中表示为400维向量（其中有5,000个）。 400维“特征”是原始20 x 20图像中每个像素的灰度强度。类标签在向量y中作为表示图像中数字的数字类。\n",
    "\n",
    "\n",
    "第一个任务是将我们的逻辑回归实现修改为完全向量化（即没有“for”循环）。这是因为向量化代码除了简洁外，还能够利用线性代数优化，并且通常比迭代代码快得多。但是，如果从练习2中看到我们的代价函数已经完全向量化实现了，所以我们可以在这里重复使用相同的实现。"
   ],
   "metadata": {}
  },
  {
   "cell_type": "markdown",
   "source": [
    "# sigmoid 函数\n",
    "g 代表一个常用的逻辑函数（logistic function）为S形函数（Sigmoid function），公式为： \\\\[g\\left( z \\right)=\\frac{1}{1+{{e}^{-z}}}\\\\] \n",
    "合起来，我们得到逻辑回归模型的假设函数： \n",
    "\t\\\\[{{h}_{\\theta }}\\left( x \\right)=\\frac{1}{1+{{e}^{-{{\\theta }^{T}}X}}}\\\\] "
   ],
   "metadata": {}
  },
  {
   "cell_type": "code",
   "execution_count": 17,
   "source": [
    "def sigmoid(z):\r\n",
    "    return 1 / (1 + np.exp(-z))"
   ],
   "outputs": [],
   "metadata": {
    "collapsed": true
   }
  },
  {
   "cell_type": "markdown",
   "source": [
    "代价函数：\n",
    "$J\\left( \\theta  \\right)=\\frac{1}{m}\\sum\\limits_{i=1}^{m}{[-{{y}^{(i)}}\\log \\left( {{h}_{\\theta }}\\left( {{x}^{(i)}} \\right) \\right)-\\left( 1-{{y}^{(i)}} \\right)\\log \\left( 1-{{h}_{\\theta }}\\left( {{x}^{(i)}} \\right) \\right)]}$"
   ],
   "metadata": {}
  },
  {
   "cell_type": "code",
   "execution_count": 18,
   "source": [
    "def cost(theta, X, y, learningRate):\r\n",
    "    theta = np.matrix(theta)\r\n",
    "    X = np.matrix(X)\r\n",
    "    y = np.matrix(y)\r\n",
    "    first = np.multiply(-y, np.log(sigmoid(X * theta.T)))\r\n",
    "    second = np.multiply((1 - y), np.log(1 - sigmoid(X * theta.T)))\r\n",
    "    reg = (learningRate / (2 * len(X))) * np.sum(np.power(theta[:,1:theta.shape[1]], 2))\r\n",
    "    return np.sum(first - second) / len(X) + reg"
   ],
   "outputs": [],
   "metadata": {}
  },
  {
   "cell_type": "markdown",
   "source": [
    "如果我们要使用梯度下降法令这个代价函数最小化，因为我们未对${{\\theta }_{0}}$ 进行正则化，所以梯度下降算法将分两种情形：\n",
    "\\begin{align}\n",
    "  & Repeat\\text{ }until\\text{ }convergence\\text{ }\\!\\!\\{\\!\\!\\text{ } \\\\ \n",
    " & \\text{     }{{\\theta }_{0}}:={{\\theta }_{0}}-a\\frac{1}{m}\\sum\\limits_{i=1}^{m}{[{{h}_{\\theta }}\\left( {{x}^{(i)}} \\right)-{{y}^{(i)}}]x_{_{0}}^{(i)}} \\\\ \n",
    " & \\text{     }{{\\theta }_{j}}:={{\\theta }_{j}}-a\\frac{1}{m}\\sum\\limits_{i=1}^{m}{[{{h}_{\\theta }}\\left( {{x}^{(i)}} \\right)-{{y}^{(i)}}]x_{j}^{(i)}}+\\frac{\\lambda }{m}{{\\theta }_{j}} \\\\ \n",
    " & \\text{          }\\!\\!\\}\\!\\!\\text{ } \\\\ \n",
    " & Repeat \\\\ \n",
    "\\end{align}\n",
    "\n",
    "以下是原始代码是使用for循环的梯度函数："
   ],
   "metadata": {}
  },
  {
   "cell_type": "code",
   "execution_count": 19,
   "source": [
    "def gradient_with_loop(theta, X, y, learningRate):\r\n",
    "    theta = np.matrix(theta)\r\n",
    "    X = np.matrix(X)\r\n",
    "    y = np.matrix(y)\r\n",
    "    \r\n",
    "    parameters = int(theta.ravel().shape[1])\r\n",
    "    grad = np.zeros(parameters)\r\n",
    "    \r\n",
    "    error = sigmoid(X * theta.T) - y\r\n",
    "    \r\n",
    "    for i in range(parameters):\r\n",
    "        term = np.multiply(error, X[:,i])\r\n",
    "        \r\n",
    "        if (i == 0):\r\n",
    "            grad[i] = np.sum(term) / len(X)\r\n",
    "        else:\r\n",
    "            grad[i] = (np.sum(term) / len(X)) + ((learningRate / len(X)) * theta[:,i])\r\n",
    "    \r\n",
    "    return grad"
   ],
   "outputs": [],
   "metadata": {
    "collapsed": true
   }
  },
  {
   "cell_type": "markdown",
   "source": [
    "向量化的梯度函数"
   ],
   "metadata": {}
  },
  {
   "cell_type": "code",
   "execution_count": 20,
   "source": [
    "def gradient(theta, X, y, learningRate):\r\n",
    "    theta = np.matrix(theta)\r\n",
    "    X = np.matrix(X)\r\n",
    "    y = np.matrix(y)\r\n",
    "    \r\n",
    "    parameters = int(theta.ravel().shape[1])\r\n",
    "    error = sigmoid(X * theta.T) - y\r\n",
    "    \r\n",
    "    grad = ((X.T * error) / len(X)).T + ((learningRate / len(X)) * theta)\r\n",
    "    \r\n",
    "    # intercept gradient is not regularized\r\n",
    "    grad[0, 0] = np.sum(np.multiply(error, X[:,0])) / len(X)\r\n",
    "    \r\n",
    "    return np.array(grad).ravel()"
   ],
   "outputs": [],
   "metadata": {
    "collapsed": true
   }
  },
  {
   "cell_type": "markdown",
   "source": [
    "现在我们已经定义了代价函数和梯度函数，现在是构建分类器的时候了。 对于这个任务，我们有10个可能的类，并且由于逻辑回归只能一次在2个类之间进行分类，我们需要多类分类的策略。 在本练习中，我们的任务是实现一对一全分类方法，其中具有k个不同类的标签就有k个分类器，每个分类器在“类别 i”和“不是 i”之间决定。 我们将把分类器训练包含在一个函数中，该函数计算10个分类器中的每个分类器的最终权重，并将权重返回为k X（n + 1）数组，其中n是参数数量。"
   ],
   "metadata": {}
  },
  {
   "cell_type": "code",
   "execution_count": 21,
   "source": [
    "from scipy.optimize import minimize\r\n",
    "\r\n",
    "def one_vs_all(X, y, num_labels, learning_rate):\r\n",
    "    rows = X.shape[0]\r\n",
    "    params = X.shape[1]\r\n",
    "    \r\n",
    "    # k X (n + 1) array for the parameters of each of the k classifiers\r\n",
    "    all_theta = np.zeros((num_labels, params + 1))\r\n",
    "    \r\n",
    "    # insert a column of ones at the beginning for the intercept term\r\n",
    "    X = np.insert(X, 0, values=np.ones(rows), axis=1)\r\n",
    "    \r\n",
    "    # labels are 1-indexed instead of 0-indexed\r\n",
    "    for i in range(1, num_labels + 1):\r\n",
    "        theta = np.zeros(params + 1)\r\n",
    "        y_i = np.array([1 if label == i else 0 for label in y])\r\n",
    "        y_i = np.reshape(y_i, (rows, 1))\r\n",
    "        \r\n",
    "        # minimize the objective function\r\n",
    "        fmin = minimize(fun=cost, x0=theta, args=(X, y_i, learning_rate), method='TNC', jac=gradient_with_loop)\r\n",
    "        all_theta[i-1,:] = fmin.x\r\n",
    "    \r\n",
    "    return all_theta"
   ],
   "outputs": [],
   "metadata": {
    "collapsed": true
   }
  },
  {
   "cell_type": "markdown",
   "source": [
    "这里需要注意的几点：首先，我们为theta添加了一个额外的参数（与训练数据一列），以计算截距项（常数项）。 其次，我们将y从类标签转换为每个分类器的二进制值（要么是类i，要么不是类i）。 最后，我们使用SciPy的较新优化API来最小化每个分类器的代价函数。 如果指定的话，API将采用目标函数，初始参数集，优化方法和jacobian（渐变）函数。 然后将优化程序找到的参数分配给参数数组。\n",
    "\n",
    "实现向量化代码的一个更具挑战性的部分是正确地写入所有的矩阵，保证维度正确。"
   ],
   "metadata": {}
  },
  {
   "cell_type": "code",
   "execution_count": 22,
   "source": [
    "rows = data['X'].shape[0]\r\n",
    "params = data['X'].shape[1]\r\n",
    "\r\n",
    "all_theta = np.zeros((10, params + 1))\r\n",
    "\r\n",
    "X = np.insert(data['X'], 0, values=np.ones(rows), axis=1)\r\n",
    "\r\n",
    "theta = np.zeros(params + 1)\r\n",
    "\r\n",
    "y_0 = np.array([1 if label == 0 else 0 for label in data['y']])\r\n",
    "y_0 = np.reshape(y_0, (rows, 1))\r\n",
    "\r\n",
    "X.shape, y_0.shape, theta.shape, all_theta.shape"
   ],
   "outputs": [
    {
     "output_type": "execute_result",
     "data": {
      "text/plain": [
       "((5000, 401), (5000, 1), (401,), (10, 401))"
      ]
     },
     "metadata": {},
     "execution_count": 22
    }
   ],
   "metadata": {}
  },
  {
   "cell_type": "markdown",
   "source": [
    "注意，theta是一维数组，因此当它被转换为计算梯度的代码中的矩阵时，它变为（1×401）矩阵。 我们还检查y中的类标签，以确保它们看起来像我们想象的一致。"
   ],
   "metadata": {}
  },
  {
   "cell_type": "code",
   "execution_count": 23,
   "source": [
    "np.unique(data['y'])#看下有几类标签"
   ],
   "outputs": [
    {
     "output_type": "execute_result",
     "data": {
      "text/plain": [
       "array([ 1,  2,  3,  4,  5,  6,  7,  8,  9, 10], dtype=uint8)"
      ]
     },
     "metadata": {},
     "execution_count": 23
    }
   ],
   "metadata": {}
  },
  {
   "cell_type": "markdown",
   "source": [
    "让我们确保我们的训练函数正确运行，并且得到合理的输出。"
   ],
   "metadata": {}
  },
  {
   "cell_type": "code",
   "execution_count": 24,
   "source": [
    "all_theta = one_vs_all(data['X'], data['y'], 10, 1)\r\n",
    "all_theta"
   ],
   "outputs": [
    {
     "output_type": "execute_result",
     "data": {
      "text/plain": [
       "array([[-2.38185770e+00,  0.00000000e+00,  0.00000000e+00, ...,\n",
       "         1.30460823e-03, -8.00219297e-10,  0.00000000e+00],\n",
       "       [-3.18407194e+00,  0.00000000e+00,  0.00000000e+00, ...,\n",
       "         4.46516637e-03, -5.09075972e-04,  0.00000000e+00],\n",
       "       [-4.79666722e+00,  0.00000000e+00,  0.00000000e+00, ...,\n",
       "        -2.85495476e-05, -2.46515074e-07,  0.00000000e+00],\n",
       "       ...,\n",
       "       [-7.98624344e+00,  0.00000000e+00,  0.00000000e+00, ...,\n",
       "        -8.81745231e-05,  7.09792913e-06,  0.00000000e+00],\n",
       "       [-4.57214673e+00,  0.00000000e+00,  0.00000000e+00, ...,\n",
       "        -1.33654445e-03,  9.99369287e-05,  0.00000000e+00],\n",
       "       [-5.40511514e+00,  0.00000000e+00,  0.00000000e+00, ...,\n",
       "        -1.16615569e-04,  7.88052312e-06,  0.00000000e+00]])"
      ]
     },
     "metadata": {},
     "execution_count": 24
    }
   ],
   "metadata": {}
  },
  {
   "cell_type": "markdown",
   "source": [
    "我们现在准备好最后一步 - 使用训练完毕的分类器预测每个图像的标签。 对于这一步，我们将计算每个类的类概率，对于每个训练样本（使用当然的向量化代码），并将输出类标签为具有最高概率的类。"
   ],
   "metadata": {}
  },
  {
   "cell_type": "code",
   "execution_count": 25,
   "source": [
    "def predict_all(X, all_theta):\r\n",
    "    rows = X.shape[0]\r\n",
    "    params = X.shape[1]\r\n",
    "    num_labels = all_theta.shape[0]\r\n",
    "    \r\n",
    "    # same as before, insert ones to match the shape\r\n",
    "    X = np.insert(X, 0, values=np.ones(rows), axis=1)\r\n",
    "    \r\n",
    "    # convert to matrices\r\n",
    "    X = np.matrix(X)\r\n",
    "    all_theta = np.matrix(all_theta)\r\n",
    "    \r\n",
    "    # compute the class probability for each class on each training instance\r\n",
    "    h = sigmoid(X * all_theta.T)\r\n",
    "    \r\n",
    "    # create array of the index with the maximum probability\r\n",
    "    h_argmax = np.argmax(h, axis=1)\r\n",
    "    \r\n",
    "    # because our array was zero-indexed we need to add one for the true label prediction\r\n",
    "    h_argmax = h_argmax + 1\r\n",
    "    \r\n",
    "    return h_argmax"
   ],
   "outputs": [],
   "metadata": {
    "collapsed": true
   }
  },
  {
   "cell_type": "markdown",
   "source": [
    "现在我们可以使用predict_all函数为每个实例生成类预测，看看我们的分类器是如何工作的。"
   ],
   "metadata": {}
  },
  {
   "cell_type": "code",
   "execution_count": 26,
   "source": [
    "y_pred = predict_all(data['X'], all_theta)\r\n",
    "correct = [1 if a == b else 0 for (a, b) in zip(y_pred, data['y'])]\r\n",
    "accuracy = (sum(map(int, correct)) / float(len(correct)))\r\n",
    "print ('accuracy = {0}%'.format(accuracy * 100))"
   ],
   "outputs": [
    {
     "output_type": "stream",
     "name": "stdout",
     "text": [
      "accuracy = 94.46%\n"
     ]
    }
   ],
   "metadata": {}
  },
  {
   "cell_type": "markdown",
   "source": [
    "# 神经网络模型图示\n",
    "<img style=\"float: left;\" src=\"../img/nn_model.png\">"
   ],
   "metadata": {}
  },
  {
   "cell_type": "markdown",
   "source": [
    "在下一个练习中，我们将介绍如何从头开始实现前馈神经网络。"
   ],
   "metadata": {}
  },
  {
   "cell_type": "code",
   "execution_count": null,
   "source": [],
   "outputs": [],
   "metadata": {
    "collapsed": true
   }
  },
  {
   "cell_type": "code",
   "execution_count": null,
   "source": [],
   "outputs": [],
   "metadata": {
    "collapsed": true
   }
  }
 ],
 "metadata": {
  "kernelspec": {
   "name": "python3",
   "display_name": "Python 3.9.6 64-bit"
  },
  "language_info": {
   "codemirror_mode": {
    "name": "ipython",
    "version": 3
   },
   "file_extension": ".py",
   "mimetype": "text/x-python",
   "name": "python",
   "nbconvert_exporter": "python",
   "pygments_lexer": "ipython3",
   "version": "3.9.6"
  },
  "interpreter": {
   "hash": "14d6c3be0fe4ee33758987c887cfc94b8d9c03b606f0e6e7da19c9657f166232"
  }
 },
 "nbformat": 4,
 "nbformat_minor": 1
}